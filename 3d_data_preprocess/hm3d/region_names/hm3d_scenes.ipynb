{
 "cells": [
  {
   "cell_type": "code",
   "execution_count": 24,
   "metadata": {},
   "outputs": [],
   "source": [
    "import pandas as pd\n",
    "import numpy as np\n",
    "\n",
    "region_neighbors = pd.read_csv('../habitat-matterport-3dresearch/statistics/HM3DSem-v0.2/Per_Category_Region_Neighbors.csv')\n",
    "\n",
    "region_neighborhoods = pd.read_csv('../habitat-matterport-3dresearch/statistics/HM3DSem-v0.2/Per_Scene_Region_Neighborhoods.csv')\\\n",
    "\n",
    "region_cats = pd.read_csv('../habitat-matterport-3dresearch/statistics/HM3DSem-v0.2/Per_Scene_Region_Cat_Presence.csv')\n",
    "\n",
    "semantic_config = pd.read_csv(\n",
    "    '../habitat-matterport-3dresearch/example/hm3d-example-semantic-annots-v0.2/00861-GLAQ4DNUx5U/GLAQ4DNUx5U.semantic.txt', \n",
    "    header=0, \n",
    "    names=['object_id', 'semantic_color', 'object_label', 'region_id'],\n",
    "    index_col=0)\n",
    "\n",
    "region_categories = pd.read_csv('../habitat-matterport-3dresearch/statistics/HM3DSem-v0.2/Per_Scene_Region_Weighted_Votes.csv')"
   ]
  },
  {
   "cell_type": "code",
   "execution_count": null,
   "metadata": {},
   "outputs": [],
   "source": [
    "scan_name = '00861-GLAQ4DNUx5U'\n",
    "\n",
    "input_list = []\n",
    "\n",
    "output_list = []\n",
    "\n",
    "for region_id in semantic_config.region_id.unique():\n",
    "\n",
    "    series = semantic_config[semantic_config.region_id == region_id].object_label.value_counts()\n",
    "\n",
    "    if 'unknown' in series:\n",
    "        series = series.drop('unknown')\n",
    "\n",
    "    region_label = region_categories.loc[(region_categories['Scene Name'] == scan_name) &\\\n",
    "                        (region_categories['Region #'] == region_id)].iloc[0, -1].strip()\n",
    "    \n",
    "    input_list.append(dict(series))\n",
    "    output_list.append(region_label)\n"
   ]
  },
  {
   "cell_type": "markdown",
   "metadata": {},
   "source": [
    "You will act as a room or region type classifier. You will take as input a list of objects in a room along with their counts, and output the type of room that is most likely to contain all of these objects. You will follow the exact same input-output format below. You will only output a single word or phrase. Here is an example:\n",
    "\n",
    "Input:\n",
    "{'wall': 4, 'bathroom utensil': 2, 'door': 1, 'toilet brush': 1, 'toilet': 1, 'recessed wall': 1, 'ceiling': 1, 'lamp': 1, 'door frame': 1, 'floor': 1, 'bathroom cabinet': 1}\n",
    "Output:\n",
    "Bathroom\n",
    "\n",
    "User\n",
    "You will now take the input as a list of the above lists, and output a room or region for each item in the list. Output all the items within a single list. Say no other word."
   ]
  }
 ],
 "metadata": {
  "kernelspec": {
   "display_name": "Python 3",
   "language": "python",
   "name": "python3"
  },
  "language_info": {
   "codemirror_mode": {
    "name": "ipython",
    "version": 3
   },
   "file_extension": ".py",
   "mimetype": "text/x-python",
   "name": "python",
   "nbconvert_exporter": "python",
   "pygments_lexer": "ipython3",
   "version": "3.8.10"
  }
 },
 "nbformat": 4,
 "nbformat_minor": 2
}
